{
 "cells": [
  {
   "cell_type": "code",
   "execution_count": 2,
   "metadata": {},
   "outputs": [],
   "source": [
    "import pandas as pd\n",
    "import numpy as np\n",
    "import matplotlib.pyplot as plt\n",
    "import requests\n",
    "import json\n",
    "\n",
    "from shapely.geometry import shape, Point, Polygon\n",
    "from shapely.ops import unary_union\n",
    "\n",
    "import rtree as rt\n",
    "\n",
    "%matplotlib inline\n",
    "pd.set_option(\"display.max.columns\", None)"
   ]
  },
  {
   "cell_type": "markdown",
   "metadata": {},
   "source": [
    "### PurpleAir Data descriptors\n",
    "##### Determined\n",
    "- pm = current PM2.5 reading\n",
    "- pm1 = raw PM1 reading\n",
    "- pm_10 = raw PM10 reading\n",
    "- pm_0 = current PM2.5 reading\n",
    "- pm_1 = 10 minute PM2.5 average\n",
    "- pm_2 = 30 minute PM2.5 average\n",
    "- pm_3 = 1 hour PM2.5 average\n",
    "- pm_4 = 6 hour PM2.5 average\n",
    "- pm_5 = 24 hour PM2.5 average\n",
    "- pm_6 = One week PM2.5 average\n",
    "- p1 = Particles >= 0.3 µm\n",
    "- p2 = Particles >= 0.5 µm\n",
    "- p3 = Particles >= 1.0 µm\n",
    "- p4 = Particles >= 2.5 µm\n",
    "- p5 = Particles >= 5.0 µm\n",
    "- p6 = Particles >= 10.0 µm\n",
    "- flags = Data flagged for unusually high readings\n",
    "- age = Sensor data age (when data was last received) in minutes\n",
    "- isOwner = Currently logged in user is the sensor owner\n",
    "- Adc = The voltage reading on the analog input of the control board\n",
    "\n",
    "##### Undetermined\n",
    "- conf\n",
    "- Icon\n",
    "- Voc\n",
    "- Ozone1\n",
    "- CH"
   ]
  },
  {
   "cell_type": "markdown",
   "metadata": {},
   "source": [
    "## Functions"
   ]
  },
  {
   "cell_type": "code",
   "execution_count": 3,
   "metadata": {},
   "outputs": [],
   "source": [
    "def sensor_data():\n",
    "    # Use 'experimental' data from purpleair\n",
    "    url = 'https://www.purpleair.com/data.json'\n",
    "    data = requests.get(url).json()\n",
    "\n",
    "    sensors_df = pd.DataFrame(data['data'], columns=data['fields'])\n",
    "    sensors_df = sensors_df.set_index('ID')\n",
    "\n",
    "    # Drop sensors with data more than 12 hours old\n",
    "    sensors_df = sensors_df[sensors_df['age'] <= 720.0]\n",
    "\n",
    "    # Drop sensors with missing data\n",
    "    sensors_df = sensors_df[~sensors_df['pm'].isnull()]\n",
    "\n",
    "    # Drop indoor sensors\n",
    "    sensors_df = sensors_df[sensors_df['Type'] == 0]\n",
    "\n",
    "    # Drop sensors > 3 standard deviations from the mean\n",
    "    sensors_df = sensors_df[sensors_df['pm'] < (2 * sensors_df['pm'].std())]\n",
    "\n",
    "    # Uses current PM2.5 reading ('pm')\n",
    "    cols_to_keep = ['pm', 'Lat', 'Lon']\n",
    "    cols_to_drop = [col for col in sensors_df.columns if col not in cols_to_keep]\n",
    "\n",
    "    sensors_df = sensors_df.drop(cols_to_drop, axis=1)\n",
    "    return sensors_df\n",
    "\n",
    "# Returns dataframe of active purpleair sensors contained within LA County\n",
    "def los_angeles_county_sensors(sensors_df):\n",
    "    # Set boolean to use LAC shape or LAC bounding box (includes some Orange County and Ventura County)\n",
    "    use_shape = False\n",
    "    \n",
    "    # Initialize rtree index\n",
    "    idx = rt.index.Index()\n",
    "    \n",
    "    # Get LA County geometries in JSON form\n",
    "    url = 'https://opendata.arcgis.com/datasets/10f1e37c065347e693cf4e8ee753c09b_15.geojson'\n",
    "    shapes = requests.get(url).json()\n",
    "    \n",
    "    la_county_indeces = []\n",
    "    \n",
    "    # Union of individual LA County shapes. Speeds up check if sensor is in LAC.\n",
    "    polygons = [shape(feature['geometry']) for feature in shapes['features']]\n",
    "    lac_shape = unary_union(polygons)\n",
    "    lac_bounds = lac_shape.bounds\n",
    "    \n",
    "    for index, row in sensors_df.iterrows():\n",
    "        if ~np.isnan(row.Lon) and ~np.isnan(row.Lat):\n",
    "            \n",
    "            if use_shape:\n",
    "                # Build Point object from sensor's Lon and Lat (in that order!) values\n",
    "                point = Point(row.Lon, row.Lat)\n",
    "\n",
    "                # Populate rtree index with point bounds\n",
    "                idx.insert(int(index), point.bounds, point)\n",
    "            else: \n",
    "                if lac_bounds[0] <= row.Lon and row.Lon <= lac_bounds[2] and lac_bounds[1] <= row.Lat and row.Lat <= lac_bounds[3]:\n",
    "                    la_county_indeces.append(int(index))\n",
    "    \n",
    "    if use_shape:\n",
    "        # get list of fids where bounding boxes intersect\n",
    "        fids = [i for i in idx.intersection(lac_shape.bounds, objects=True)]\n",
    "\n",
    "        # access the features that those fids reference\n",
    "        for fid in fids:\n",
    "            # check the geometries intersect, not just their bboxs\n",
    "            if lac_shape.contains(fid.object):\n",
    "                la_county_indeces.append(fid.id)\n",
    "                    \n",
    "    return sensors_df.loc[la_county_indeces]\n",
    "\n",
    "# Census Tract data is provided by LATimes (not ideal), but is complete.\n",
    "def la_county_census_tracts():\n",
    "    use_url = False\n",
    "    \n",
    "    if use_url:\n",
    "        # Read from URL\n",
    "        test_url = 'http://s3-us-west-2.amazonaws.com/boundaries.latimes.com/archive/1.0/boundary-set/census-tracts-2012.geojson'\n",
    "        shape_data = requests.get(test_url).json()\n",
    "    else:\n",
    "        # Open saved file\n",
    "        with open('census-tracts-2012.geojson') as f:\n",
    "            shape_data = json.load(f)\n",
    "        \n",
    "    census_tract_df = pd.DataFrame()\n",
    "    census_tract_df['tract'] = [int(feature['properties']['name']) for feature in shape_data['features']]\n",
    "    census_tract_df['coordinates'] = [feature['geometry']['coordinates'] for feature in shape_data['features']]\n",
    "    census_tract_df['shape'] = [shape(feature['geometry']) for feature in shape_data['features']]\n",
    "    census_tract_df.set_index('tract', inplace=True)\n",
    "    return census_tract_df\n",
    "\n",
    "def find_nearest_sensors(la_county_sensors_df, census_tract_df, n=3):\n",
    "    # Populate rtree index with sensor points\n",
    "    idx = rt.index.Index()\n",
    "    for index, row in la_county_sensors_df.iterrows():\n",
    "        idx.insert(int(index), row['point'].bounds)\n",
    "        \n",
    "    # Use rtree index's nearest function to find indexed point closest to the bounding box of the census tract\n",
    "    nearest_sensors = []\n",
    "    for index, row in census_tract_df.iterrows():\n",
    "        centroid = row['shape'].centroid\n",
    "\n",
    "        nearest = list(idx.nearest(centroid.bounds, n))[:n]\n",
    "        nearest_sensors.append(nearest)\n",
    "    census_tract_df['nearest_sensor_indices'] = nearest_sensors\n",
    "    return census_tract_df\n",
    "    \n",
    "def census_tract_values(census_tract_df, la_county_sensors_df):\n",
    "    pm_cols = []\n",
    "    for index, row in census_tract_df.iterrows():\n",
    "        closest_vals = []\n",
    "\n",
    "        for sensor_index in row['nearest_sensor_indices']:\n",
    "            sensor = la_county_sensors_df.loc[sensor_index]\n",
    "            closest_vals.append(sensor['pm'])\n",
    "\n",
    "        pm_cols.append(closest_vals)\n",
    "    census_tract_df['pm_vals'] = pm_cols\n",
    "    \n",
    "    # Calculate weighted average\n",
    "    census_pm = []\n",
    "\n",
    "    for index, row in census_tract_df.iterrows():\n",
    "        distances = []\n",
    "        values = []\n",
    "        polygon = row['shape']\n",
    "        for sensor_index in row['nearest_sensor_indices']:\n",
    "            sensor = la_county_sensors_df.loc[sensor_index]\n",
    "            distances.append(1/polygon.centroid.distance(sensor.point))\n",
    "            values.append(sensor['pm'])\n",
    "\n",
    "        weighted_avg = np.average(values, weights=distances)\n",
    "\n",
    "        census_pm.append(weighted_avg)\n",
    "\n",
    "    census_tract_df['avg_pm'] = census_pm\n",
    "    return census_tract_df"
   ]
  },
  {
   "cell_type": "markdown",
   "metadata": {},
   "source": [
    "## PurpleAir Sensors"
   ]
  },
  {
   "cell_type": "code",
   "execution_count": 4,
   "metadata": {},
   "outputs": [],
   "source": [
    "# Get PurpleAir sensor data\n",
    "sensors_df = sensor_data()"
   ]
  },
  {
   "cell_type": "code",
   "execution_count": 5,
   "metadata": {},
   "outputs": [],
   "source": [
    "# Get PurpleAir sensors in LA County\n",
    "la_county_sensors_df = los_angeles_county_sensors(sensors_df)\n",
    "la_county_sensors_df['point'] = la_county_sensors_df.apply(lambda x: Point(x['Lon'], x['Lat']), axis=1)"
   ]
  },
  {
   "cell_type": "markdown",
   "metadata": {},
   "source": [
    "## LA County Census Tracts"
   ]
  },
  {
   "cell_type": "code",
   "execution_count": 6,
   "metadata": {},
   "outputs": [],
   "source": [
    "census_tract_df = la_county_census_tracts()"
   ]
  },
  {
   "cell_type": "markdown",
   "metadata": {},
   "source": [
    "## Find Nearest Sensors"
   ]
  },
  {
   "cell_type": "code",
   "execution_count": 7,
   "metadata": {},
   "outputs": [],
   "source": [
    "census_tract_df = find_nearest_sensors(la_county_sensors_df, census_tract_df, 3)"
   ]
  },
  {
   "cell_type": "markdown",
   "metadata": {},
   "source": [
    "## Compute Census Tract Values"
   ]
  },
  {
   "cell_type": "code",
   "execution_count": 8,
   "metadata": {},
   "outputs": [],
   "source": [
    "census_tract_df = census_tract_values(census_tract_df, la_county_sensors_df)"
   ]
  },
  {
   "cell_type": "markdown",
   "metadata": {},
   "source": [
    "## Save to geojson"
   ]
  },
  {
   "cell_type": "code",
   "execution_count": 9,
   "metadata": {},
   "outputs": [],
   "source": [
    "geojson = {'type':'FeatureCollection', 'features':[]}\n",
    "for tract, row in census_tract_df.iterrows():\n",
    "    feature = {'type': 'Feature',\n",
    "              'properties': {},\n",
    "              'geometry': {'type': 'MultiPolygon',\n",
    "                          'coordinates': []}}\n",
    "    feature['geometry']['coordinates'] = row['coordinates']\n",
    "    feature['properties']['tract'] = '0' + str(tract)\n",
    "    feature['properties']['pm_25_weighted_avg'] = row['avg_pm']\n",
    "    geojson['features'].append(feature)"
   ]
  },
  {
   "cell_type": "code",
   "execution_count": 10,
   "metadata": {},
   "outputs": [],
   "source": [
    "output_filename = 'data.geojson'\n",
    "with open(output_filename, 'w') as output_file:\n",
    "    json.dump(geojson, output_file, indent=2) "
   ]
  },
  {
   "cell_type": "code",
   "execution_count": null,
   "metadata": {},
   "outputs": [],
   "source": []
  }
 ],
 "metadata": {
  "kernelspec": {
   "display_name": "geo_env",
   "language": "python",
   "name": "geo_env"
  },
  "language_info": {
   "codemirror_mode": {
    "name": "ipython",
    "version": 3
   },
   "file_extension": ".py",
   "mimetype": "text/x-python",
   "name": "python",
   "nbconvert_exporter": "python",
   "pygments_lexer": "ipython3",
   "version": "3.9.1"
  }
 },
 "nbformat": 4,
 "nbformat_minor": 4
}
